{
 "cells": [
  {
   "cell_type": "markdown",
   "id": "98cc9965-9c12-4122-8ec6-90fb67118321",
   "metadata": {},
   "source": [
    "# Web Scraping\n",
    "\n",
    "## Introdução\n",
    "Neste notebook, vamos fazer o webscrapping das imagens dos personagens de anime que serão usadas para treinar e testar a IA reconhecedora, gerando assim nosso dataset.\n",
    "\n",
    "## Sumário\n",
    "1. [Instalação de Bibliotecas](#Instalação-de-Bibliotecas)\n",
    "2. [Inicialização](#Inicialização)\n",
    "3. [Obtenção dos Personagens](#Obtenção-dos-Personagens)\n",
    "4. [Obtenção das Imagens]()"
   ]
  },
  {
   "cell_type": "markdown",
   "id": "a29a36f1-c6fd-45d3-b247-7fe6c36d6603",
   "metadata": {},
   "source": [
    "## Instalação de Bibliotecas\n",
    "\n",
    "Primeiramente, se ainda não foi feito, instalaremos todas as bibliotecas necessárias para esse projeto:\n"
   ]
  },
  {
   "cell_type": "code",
   "execution_count": null,
   "id": "1b57ab0d-1ce2-4db7-9be8-607401aca708",
   "metadata": {},
   "outputs": [],
   "source": [
    "%pip install -r requirements.txt"
   ]
  },
  {
   "cell_type": "markdown",
   "id": "117ecf94-3fcf-4fae-98a6-b56864784855",
   "metadata": {},
   "source": [
    "## Inicialização\n",
    "\n",
    "Agora importaremos as bibliotecas e também inicializaremos as constantes globais que serão usadas a seguir:"
   ]
  },
  {
   "cell_type": "code",
   "execution_count": 5,
   "id": "8ae8a24f-2631-447b-800e-4f32111230c1",
   "metadata": {},
   "outputs": [],
   "source": [
    "import requests\n",
    "from bs4 import BeautifulSoup, ResultSet, Tag\n",
    "from pathlib import Path\n",
    "\n",
    "CHAR_FOLDER = Path(\"Characters\")\n",
    "TEST_FOLDER = CHAR_FOLDER / Path(\"Test\")\n",
    "TRAIN_FOLDER = CHAR_FOLDER / Path(\"Train\")\n",
    "CHAR_LIST = Path(\"characters.txt\")"
   ]
  },
  {
   "cell_type": "markdown",
   "id": "1aab3772",
   "metadata": {},
   "source": [
    "## Obtenção dos Personagens\n",
    "\n",
    "Aqui iremos obter a lista de todos os personagens principais que iremos treinar nossa IA, no caso iremos escolher os personagens do arco do Stardust Crusaders do anime JoJo's Bizarre Adventure, além disso iremos estruturar os diretórios para o salvamento dos arquivos."
   ]
  },
  {
   "cell_type": "markdown",
   "id": "5061db5f",
   "metadata": {},
   "source": [
    "### Obtenção da Lista de Nomes\n",
    "\n",
    "Aqui iremos criar um arquivo `characters.txt` com a lista dos nomes dos personagens principais, utilizando o site do MyAnimesList como referência:"
   ]
  },
  {
   "cell_type": "code",
   "execution_count": 25,
   "id": "c22144a5",
   "metadata": {},
   "outputs": [
    {
     "name": "stdout",
     "output_type": "stream",
     "text": [
      "Muhammad Avdol\n",
      "Dio Brando\n",
      "Iggy\n",
      "Joseph Joestar\n",
      "Noriaki Kakyouin\n",
      "Joutarou Kuujou\n",
      "Jean-Pierre Polnareff\n"
     ]
    }
   ],
   "source": [
    "def get_characters(url):\n",
    "    response = requests.get(url)\n",
    "    parsed_html = BeautifulSoup(response.content, \"html.parser\")\n",
    "    characters: ResultSet[Tag] = parsed_html.find_all(\n",
    "        \"h3\", class_=\"h3_character_name\"\n",
    "    )\n",
    "    with open(CHAR_LIST, \"w\", encoding=\"utf-8\") as character_file:\n",
    "        for character in characters:\n",
    "            div_parent: Tag = character.parent.parent.parent\n",
    "            character_role: Tag = div_parent.findChildren(\"div\")[3]\n",
    "            \n",
    "            # Verificamos se o personagem é um personagem principal\n",
    "            if character_role.text.strip() == \"Main\":\n",
    "                \n",
    "                # Como o nome vem no padrão oriental iremos redefinir para o padrão ocidental, caso necessário\n",
    "                character = character.text\n",
    "                if \", \" in character:\n",
    "                    name_split = character.split(\", \")\n",
    "                    character = name_split[1] + \" \" + name_split[0]\n",
    "                print(character)\n",
    "                print(character, file=character_file)\n",
    "\n",
    "url = \"https://myanimelist.net/anime/26055/JoJo_no_Kimyou_na_Bouken_Part_3__Stardust_Crusaders_2nd_Season/characters\"\n",
    "get_characters(url)"
   ]
  },
  {
   "cell_type": "markdown",
   "id": "85eb1926",
   "metadata": {},
   "source": [
    "### Estruturação das pastas\n",
    "\n",
    "Agora iremos criar e estruturar as pastas, no qual iremos guardar e separar as imagens. Criando uma pasta para cada personagem.\n",
    "\n"
   ]
  },
  {
   "cell_type": "code",
   "execution_count": 28,
   "id": "174290b7",
   "metadata": {},
   "outputs": [],
   "source": [
    "CHAR_FOLDER.mkdir(exist_ok=True)\n",
    "TEST_FOLDER.mkdir(exist_ok=True)\n",
    "TRAIN_FOLDER.mkdir(exist_ok=True)\n",
    "with open(CHAR_LIST, \"r\", encoding=\"utf-8\") as characters:\n",
    "    for character in characters:\n",
    "        character_name = character.strip().replace(\" \",\"-\")\n",
    "        pasta = TEST_FOLDER / character_name\n",
    "        pasta.mkdir(exist_ok=True)\n",
    "        pasta = TRAIN_FOLDER / character_name\n",
    "        pasta.mkdir(exist_ok=True)"
   ]
  }
 ],
 "metadata": {
  "kernelspec": {
   "display_name": "Python 3 (ipykernel)",
   "language": "python",
   "name": "python3"
  },
  "language_info": {
   "codemirror_mode": {
    "name": "ipython",
    "version": 3
   },
   "file_extension": ".py",
   "mimetype": "text/x-python",
   "name": "python",
   "nbconvert_exporter": "python",
   "pygments_lexer": "ipython3",
   "version": "3.12.1"
  }
 },
 "nbformat": 4,
 "nbformat_minor": 5
}
